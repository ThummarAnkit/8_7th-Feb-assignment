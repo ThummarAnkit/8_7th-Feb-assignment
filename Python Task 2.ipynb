{
 "cells": [
  {
   "cell_type": "markdown",
   "id": "81b2d1ef",
   "metadata": {},
   "source": [
    "# Q1. You are writing code for a company. The requirement of the company is that you create a python  function that will check whether the password entered by the user is correct or not. The function should  take the password as input and return the string “Valid Password” if the entered password follows the  below-given password guidelines else it should return “Invalid Password”. \n",
    "\n",
    "__Note :__ <br>\n",
    "1. The Password should contain at least two uppercase letters and at least two lowercase letters. <br>\n",
    "2. The Password should contain at least a number and three special characters.<br> \n",
    "3. The length of the password should be 10 characters long. \n"
   ]
  },
  {
   "cell_type": "code",
   "execution_count": 1,
   "id": "1f1a5b15",
   "metadata": {},
   "outputs": [
    {
     "name": "stdout",
     "output_type": "stream",
     "text": [
      "Password \"Abc_Xyz@1$\" is Valid Password\n",
      "Password \"AnkitT_20\" is Invalid Password\n"
     ]
    }
   ],
   "source": [
    "def check_password(password):\n",
    "    \n",
    "    low=0\n",
    "    up=0\n",
    "    digit=0\n",
    "    sp_ch=0\n",
    "    \n",
    "    for i in password:\n",
    "        \n",
    "        if i.islower():\n",
    "            low+=1\n",
    "        elif i.isupper():\n",
    "            up+=1\n",
    "        elif i.isdigit():\n",
    "            digit=1\n",
    "        else:\n",
    "            sp_ch+=1\n",
    "            \n",
    "    if low>=2 and up>=2 and digit==1 and sp_ch>=3 and len(password)==10:\n",
    "        return \"Valid Password\"\n",
    "    else:\n",
    "        return \"Invalid Password\"\n",
    "    \n",
    "password1 = \"Abc_Xyz@1$\"\n",
    "password2 = \"AnkitT_20\"\n",
    "\n",
    "print(f\"Password \\\"{password1}\\\" is {check_password(password1)}\")\n",
    "print(f\"Password \\\"{password2}\\\" is {check_password(password2)}\")"
   ]
  },
  {
   "cell_type": "markdown",
   "id": "9b6fc320",
   "metadata": {},
   "source": [
    "# Q2. Solve the below-given questions using at least one of the following:  \n",
    "1. Lambda function\n",
    "2. Filter function \n",
    "3. Map function\n",
    "4. List Comprehension\n",
    "\n",
    "\n",
    "* Check if the string starts with a particular letter.\n",
    "* Check if the string is numeric.\n",
    "* Sort a list of tuples having fruit names and their quantity.\n",
    "   <br>[(\"mango\",99),(\"orange\",80), (\"grapes\", 1000)]\n",
    "* Find the squares of numbers from 1 to 10. <br>\n",
    "* Find the cube root of numbers from 1 to 10.\n",
    "* Check if a given number is even. \n",
    "* Filter odd numbers from the given list. <br>\n",
    " [1,2,3,4,5,6,7,8,9,10] <br>\n",
    "* Sort a list of integers into positive and negative integers lists. <br>\n",
    " [1,2,3,4,5,6,-1,-2,-3,-4,-5,0] \n"
   ]
  },
  {
   "cell_type": "markdown",
   "id": "bbd10a9d",
   "metadata": {},
   "source": [
    "* Check if the string starts with a particular letter."
   ]
  },
  {
   "cell_type": "code",
   "execution_count": 2,
   "id": "09f54825",
   "metadata": {},
   "outputs": [
    {
     "name": "stdout",
     "output_type": "stream",
     "text": [
      "Enter a string : Ankit\n",
      "Yes, string start with 'A'\n"
     ]
    }
   ],
   "source": [
    "string = input(\"Enter a string : \")\n",
    "if string[0]=='A':\n",
    "    print(\"Yes, string start with 'A'\")\n",
    "else:\n",
    "    print(\"No, string is not start with 'A'\")"
   ]
  },
  {
   "cell_type": "markdown",
   "id": "cd156fe4",
   "metadata": {},
   "source": [
    "* Check if the string is numeric."
   ]
  },
  {
   "cell_type": "code",
   "execution_count": 3,
   "id": "1f0f0174",
   "metadata": {},
   "outputs": [
    {
     "name": "stdout",
     "output_type": "stream",
     "text": [
      "Enter a string : 1234567890\n",
      "Yes, string is numeric\n"
     ]
    }
   ],
   "source": [
    "string = input(\"Enter a string : \")\n",
    "\n",
    "if string.isnumeric():\n",
    "    print(\"Yes, string is numeric\")\n",
    "else:\n",
    "    print(\"No, string is not numeric\")"
   ]
  },
  {
   "cell_type": "markdown",
   "id": "94493821",
   "metadata": {},
   "source": [
    "* Sort a list of tuples having fruit names and their quantity.\n",
    "   <br>[(\"mango\",99),(\"orange\",80), (\"grapes\", 1000)]"
   ]
  },
  {
   "cell_type": "code",
   "execution_count": 4,
   "id": "12688f80",
   "metadata": {},
   "outputs": [
    {
     "name": "stdout",
     "output_type": "stream",
     "text": [
      "List :  [('mango', 99), ('orange', 80), ('grapes', 1000)]\n",
      "sorted List :  [('orange', 80), ('mango', 99), ('grapes', 1000)]\n"
     ]
    }
   ],
   "source": [
    "def sort_tuple(lst):\n",
    "    lst.sort(key = lambda x:x[1])\n",
    "    return lst\n",
    "\n",
    "lst = [(\"mango\",99),(\"orange\",80), (\"grapes\", 1000)]\n",
    "print(\"List : \",lst)\n",
    "print(\"sorted List : \", sort_tuple(lst))"
   ]
  },
  {
   "cell_type": "markdown",
   "id": "1e5ea48e",
   "metadata": {},
   "source": [
    "* Find the squares of numbers from 1 to 10."
   ]
  },
  {
   "cell_type": "code",
   "execution_count": 5,
   "id": "89e704aa",
   "metadata": {},
   "outputs": [
    {
     "name": "stdout",
     "output_type": "stream",
     "text": [
      "squares of 1 to 10 :  [1, 4, 9, 16, 25, 36, 49, 64, 81, 100]\n"
     ]
    }
   ],
   "source": [
    "sqrs = list(map(lambda x:x**2, range(1,11)))\n",
    "print(\"squares of 1 to 10 : \",sqrs)"
   ]
  },
  {
   "cell_type": "markdown",
   "id": "0cbfa93b",
   "metadata": {},
   "source": [
    "* Find the cube root of numbers from 1 to 10."
   ]
  },
  {
   "cell_type": "code",
   "execution_count": 6,
   "id": "ea20ea18",
   "metadata": {},
   "outputs": [
    {
     "name": "stdout",
     "output_type": "stream",
     "text": [
      "cube roots of 1 to 10 : [1.0, 1.2599210498948732, 1.4422495703074083, 1.5874010519681994, 1.7099759466766968, 1.8171205928321397, 1.912931182772389, 2.0, 2.080083823051904, 2.154434690031884]\n"
     ]
    }
   ],
   "source": [
    "cube_root = list(map(lambda x:x**(1/3), range(1,11)))\n",
    "print(f\"cube roots of 1 to 10 : {cube_root}\")"
   ]
  },
  {
   "cell_type": "markdown",
   "id": "75615bba",
   "metadata": {},
   "source": [
    "* Check if a given number is even."
   ]
  },
  {
   "cell_type": "code",
   "execution_count": 7,
   "id": "d80531a8",
   "metadata": {},
   "outputs": [
    {
     "name": "stdout",
     "output_type": "stream",
     "text": [
      "Enter a number : 18\n",
      "number is even\n"
     ]
    }
   ],
   "source": [
    "num = int(input(\"Enter a number : \"))\n",
    "\n",
    "if num%2==0:\n",
    "    print(\"number is even\")\n",
    "else:\n",
    "    print(\"number is odd\")"
   ]
  },
  {
   "cell_type": "markdown",
   "id": "7b29d82a",
   "metadata": {},
   "source": [
    "* Filter odd numbers from the given list.<br>\n",
    " [1,2,3,4,5,6,7,8,9,10]"
   ]
  },
  {
   "cell_type": "code",
   "execution_count": 8,
   "id": "30b36292",
   "metadata": {},
   "outputs": [
    {
     "name": "stdout",
     "output_type": "stream",
     "text": [
      "List :  [1, 2, 3, 4, 5, 6, 7, 8, 9, 10]\n",
      "odd number list : [1, 3, 5, 7, 9]\n"
     ]
    }
   ],
   "source": [
    "lst = [1,2,3,4,5,6,7,8,9,10]\n",
    "print(\"List : \",lst)\n",
    "\n",
    "lst = list(filter(lambda x:x%2!=0, lst))\n",
    "print(\"odd number list :\", lst)"
   ]
  },
  {
   "cell_type": "markdown",
   "id": "053de05d",
   "metadata": {},
   "source": [
    "* Sort a list of integers into positive and negative integers lists. <br>\n",
    " [1,2,3,4,5,6,-1,-2,-3,-4,-5,0] "
   ]
  },
  {
   "cell_type": "code",
   "execution_count": 11,
   "id": "c1ae8bd2",
   "metadata": {},
   "outputs": [
    {
     "name": "stdout",
     "output_type": "stream",
     "text": [
      "The original list is :  [1, 2, 3, 4, 5, 6, -1, -2, -3, -4, -5, 0]\n",
      "Result after performing sort operation :  [1, 2, 3, 4, 5, 6, 0, -5, -4, -3, -2, -1]\n"
     ]
    }
   ],
   "source": [
    "lst = [1,2,3,4,5,6,-1,-2,-3,-4,-5,0]\n",
    " \n",
    "print(\"The original list is : \", lst)\n",
    " \n",
    "# Sort while keeping Positive elements before negatives\n",
    "# using sorted() + lambda\n",
    "res = sorted(lst, key = lambda i: 0 if i == 0 else -1 / i)\n",
    " \n",
    "print(\"Result after performing sort operation : \", res)"
   ]
  },
  {
   "cell_type": "code",
   "execution_count": null,
   "id": "cd5ce56b",
   "metadata": {},
   "outputs": [],
   "source": []
  }
 ],
 "metadata": {
  "kernelspec": {
   "display_name": "Python 3 (ipykernel)",
   "language": "python",
   "name": "python3"
  },
  "language_info": {
   "codemirror_mode": {
    "name": "ipython",
    "version": 3
   },
   "file_extension": ".py",
   "mimetype": "text/x-python",
   "name": "python",
   "nbconvert_exporter": "python",
   "pygments_lexer": "ipython3",
   "version": "3.9.7"
  }
 },
 "nbformat": 4,
 "nbformat_minor": 5
}
